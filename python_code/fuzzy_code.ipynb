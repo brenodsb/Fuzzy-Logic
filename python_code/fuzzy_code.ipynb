{
 "cells": [
  {
   "cell_type": "code",
   "execution_count": null,
   "metadata": {},
   "outputs": [],
   "source": [
    "%pip install networkx==2.3\n",
    "%pip install scikit-fuzzy"
   ]
  },
  {
   "cell_type": "code",
   "execution_count": null,
   "metadata": {},
   "outputs": [],
   "source": [
    "import numpy as np\n",
    "import skfuzzy as fuzz\n",
    "from skfuzzy import control as ctrl\n",
    "\n",
    "# Cria as variáveis do problema\n",
    "velocidade = ctrl.Antecedent(np.arange(0, 201, 1), 'velocidade')\n",
    "marcha = ctrl.Antecedent(np.arange(1, 6, 1), 'marcha')\n",
    "inclinacao = ctrl.Antecedent(np.arange(-100, 100, 1), 'inclinacao')\n",
    "consumo = ctrl.Consequent(np.arange(0, 101, 1), 'consumo')\n",
    "\n",
    "# Velocidade\n",
    "velocidade['baixa'] = fuzz.trimf(velocidade.universe, [0, 0, 50])\n",
    "velocidade['media'] = fuzz.gaussmf(velocidade.universe, 65, 15)\n",
    "velocidade['alta'] = fuzz.trapmf(velocidade.universe, [75, 125, 200, 200])\n",
    "\n",
    "# Marcha\n",
    "marcha['baixa'] = fuzz.trimf(marcha.universe, [1, 1, 3])\n",
    "marcha['media'] = fuzz.trimf(marcha.universe, [2, 3, 4])\n",
    "marcha['alta'] = fuzz.trimf(marcha.universe, [3, 5, 5])\n",
    "\n",
    "# Inclinação\n",
    "inclinacao.automf(names=['baixa', 'media', 'alta'])\n",
    "\n",
    "# Consumo\n",
    "consumo['baixo'] = fuzz.trimf(consumo.universe, [0, 0, 40])\n",
    "consumo['medio'] = fuzz.trimf(consumo.universe, [20, 50, 80])\n",
    "consumo['alto'] = fuzz.trimf(consumo.universe, [60, 100, 100])\n",
    "\n",
    "velocidade.view()\n",
    "marcha.view()\n",
    "inclinacao.view()\n",
    "consumo.view()"
   ]
  },
  {
   "cell_type": "code",
   "execution_count": null,
   "metadata": {},
   "outputs": [],
   "source": [
    "rule1 = ctrl.Rule(inclinacao['baixa'], consumo['baixo'])\n",
    "rule2 = ctrl.Rule(velocidade['media'] & marcha['media'] & inclinacao['media'], consumo['medio'])\n",
    "rule3 = ctrl.Rule(((velocidade['media'] | velocidade['alta']) & inclinacao['alta']) |\n",
    "                  ((velocidade['media'] | velocidade['alta']) & marcha['baixa']) , consumo['alto'])"
   ]
  },
  {
   "cell_type": "code",
   "execution_count": null,
   "metadata": {},
   "outputs": [],
   "source": [
    "consumo_ctrl = ctrl.ControlSystem([rule1, rule2, rule3])\n",
    "consumo_simulador = ctrl.ControlSystemSimulation(consumo_ctrl)\n",
    "\n",
    "# Entrando com alguns valores\n",
    "consumo_simulador.input['velocidade'] = 100\n",
    "consumo_simulador.input['marcha'] = 5\n",
    "consumo_simulador.input['inclinacao'] = 100\n",
    "\n",
    "# Computando o resultado\n",
    "consumo_simulador.compute()\n",
    "print(consumo_simulador.output['consumo'],'%')\n"
   ]
  },
  {
   "cell_type": "code",
   "execution_count": null,
   "metadata": {},
   "outputs": [],
   "source": [
    "velocidade.view(sim=consumo_simulador)\n",
    "marcha.view(sim=consumo_simulador)\n",
    "inclinacao.view(sim=consumo_simulador)\n",
    "consumo.view(sim=consumo_simulador)"
   ]
  }
 ],
 "metadata": {
  "language_info": {
   "name": "python"
  },
  "orig_nbformat": 4
 },
 "nbformat": 4,
 "nbformat_minor": 2
}
